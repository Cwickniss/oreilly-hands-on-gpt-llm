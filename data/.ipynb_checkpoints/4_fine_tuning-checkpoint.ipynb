{
 "cells": [
  {
   "cell_type": "code",
   "execution_count": 1,
   "id": "8cdc9582",
   "metadata": {},
   "outputs": [
    {
     "data": {
      "text/plain": [
       "'\\nChapter 3: Fine-Tuning GPT3 with Custom Examples \\n    Overview of Transfer Learning & Fine-tuning\\n    Overview of GPT3 Fine-tuning API\\n    Using Fine-tuned GPT3 Models to Get Better Results\\n'"
      ]
     },
     "execution_count": 1,
     "metadata": {},
     "output_type": "execute_result"
    }
   ],
   "source": [
    "'''\n",
    "Chapter 4: Fine-Tuning GPT3 with Custom Examples \n",
    "    Overview of Transfer Learning & Fine-tuning\n",
    "    Overview of GPT3 Fine-tuning API\n",
    "    Using Fine-tuned GPT3 Models to Get Better Results\n",
    "'''"
   ]
  },
  {
   "cell_type": "code",
   "execution_count": null,
   "id": "950c8fa2",
   "metadata": {},
   "outputs": [],
   "source": []
  }
 ],
 "metadata": {
  "kernelspec": {
   "display_name": "Python 3 (ipykernel)",
   "language": "python",
   "name": "python3"
  },
  "language_info": {
   "codemirror_mode": {
    "name": "ipython",
    "version": 3
   },
   "file_extension": ".py",
   "mimetype": "text/x-python",
   "name": "python",
   "nbconvert_exporter": "python",
   "pygments_lexer": "ipython3",
   "version": "3.10.7"
  }
 },
 "nbformat": 4,
 "nbformat_minor": 5
}
