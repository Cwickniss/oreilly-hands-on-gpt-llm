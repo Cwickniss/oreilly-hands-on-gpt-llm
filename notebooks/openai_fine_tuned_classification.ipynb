{
 "cells": [
  {
   "cell_type": "markdown",
   "metadata": {},
   "source": [
    "# Fine tuning classification example\n",
    "\n",
    "We will fine-tune an ada classifier to distinguish between TODO"
   ]
  },
  {
   "cell_type": "code",
   "execution_count": 1,
   "metadata": {},
   "outputs": [
    {
     "name": "stderr",
     "output_type": "stream",
     "text": [
      "Found cached dataset amazon_reviews_multi (/Users/sinanozdemir/.cache/huggingface/datasets/amazon_reviews_multi/all_languages/1.0.0/724e94f4b0c6c405ce7e476a6c5ef4f87db30799ad49f765094cf9770e0f7609)\n"
     ]
    },
    {
     "data": {
      "application/vnd.jupyter.widget-view+json": {
       "model_id": "af60c19a7a1e4fe690cbbd6a13928499",
       "version_major": 2,
       "version_minor": 0
      },
      "text/plain": [
       "  0%|          | 0/3 [00:00<?, ?it/s]"
      ]
     },
     "metadata": {},
     "output_type": "display_data"
    }
   ],
   "source": [
    "import pandas as pd\n",
    "import openai\n",
    "import os\n",
    "from datasets import load_dataset\n",
    "import random\n",
    "import math\n",
    "\n",
    "random.seed(42)\n",
    "dataset = load_dataset(\"amazon_reviews_multi\", \"all_languages\")"
   ]
  },
  {
   "cell_type": "code",
   "execution_count": null,
   "metadata": {},
   "outputs": [],
   "source": []
  },
  {
   "cell_type": "code",
   "execution_count": 91,
   "metadata": {},
   "outputs": [],
   "source": [
    "openai.api_key = os.getenv(\"OPENAI_API_KEY\")\n"
   ]
  },
  {
   "cell_type": "code",
   "execution_count": 12,
   "metadata": {},
   "outputs": [
    {
     "data": {
      "text/plain": [
       "DatasetDict({\n",
       "    train: Dataset({\n",
       "        features: ['review_id', 'product_id', 'reviewer_id', 'stars', 'review_body', 'review_title', 'language', 'product_category'],\n",
       "        num_rows: 1200000\n",
       "    })\n",
       "    validation: Dataset({\n",
       "        features: ['review_id', 'product_id', 'reviewer_id', 'stars', 'review_body', 'review_title', 'language', 'product_category'],\n",
       "        num_rows: 30000\n",
       "    })\n",
       "    test: Dataset({\n",
       "        features: ['review_id', 'product_id', 'reviewer_id', 'stars', 'review_body', 'review_title', 'language', 'product_category'],\n",
       "        num_rows: 30000\n",
       "    })\n",
       "})"
      ]
     },
     "execution_count": 12,
     "metadata": {},
     "output_type": "execute_result"
    }
   ],
   "source": [
    "dataset"
   ]
  },
  {
   "cell_type": "code",
   "execution_count": 13,
   "metadata": {
    "scrolled": true
   },
   "outputs": [
    {
     "data": {
      "text/html": [
       "<div>\n",
       "<style scoped>\n",
       "    .dataframe tbody tr th:only-of-type {\n",
       "        vertical-align: middle;\n",
       "    }\n",
       "\n",
       "    .dataframe tbody tr th {\n",
       "        vertical-align: top;\n",
       "    }\n",
       "\n",
       "    .dataframe thead th {\n",
       "        text-align: right;\n",
       "    }\n",
       "</style>\n",
       "<table border=\"1\" class=\"dataframe\">\n",
       "  <thead>\n",
       "    <tr style=\"text-align: right;\">\n",
       "      <th></th>\n",
       "      <th>review_id</th>\n",
       "      <th>product_id</th>\n",
       "      <th>reviewer_id</th>\n",
       "      <th>stars</th>\n",
       "      <th>review_body</th>\n",
       "      <th>review_title</th>\n",
       "      <th>language</th>\n",
       "      <th>product_category</th>\n",
       "    </tr>\n",
       "  </thead>\n",
       "  <tbody>\n",
       "    <tr>\n",
       "      <th>0</th>\n",
       "      <td>de_0203609</td>\n",
       "      <td>product_de_0865382</td>\n",
       "      <td>reviewer_de_0267719</td>\n",
       "      <td>1</td>\n",
       "      <td>Armband ist leider nach 1 Jahr kaputt gegangen</td>\n",
       "      <td>Leider nach 1 Jahr kaputt</td>\n",
       "      <td>de</td>\n",
       "      <td>sports</td>\n",
       "    </tr>\n",
       "    <tr>\n",
       "      <th>1</th>\n",
       "      <td>de_0559494</td>\n",
       "      <td>product_de_0678997</td>\n",
       "      <td>reviewer_de_0783625</td>\n",
       "      <td>1</td>\n",
       "      <td>In der Lieferung war nur Ein Akku!</td>\n",
       "      <td>EINS statt ZWEI Akkus!!!</td>\n",
       "      <td>de</td>\n",
       "      <td>home_improvement</td>\n",
       "    </tr>\n",
       "    <tr>\n",
       "      <th>2</th>\n",
       "      <td>de_0238777</td>\n",
       "      <td>product_de_0372235</td>\n",
       "      <td>reviewer_de_0911426</td>\n",
       "      <td>1</td>\n",
       "      <td>Ein Stern, weil gar keine geht nicht. Es hande...</td>\n",
       "      <td>Achtung Abzocke</td>\n",
       "      <td>de</td>\n",
       "      <td>drugstore</td>\n",
       "    </tr>\n",
       "    <tr>\n",
       "      <th>3</th>\n",
       "      <td>de_0477884</td>\n",
       "      <td>product_de_0719501</td>\n",
       "      <td>reviewer_de_0836478</td>\n",
       "      <td>1</td>\n",
       "      <td>Dachte, das wären einfach etwas festere Binden...</td>\n",
       "      <td>Zu viel des Guten</td>\n",
       "      <td>de</td>\n",
       "      <td>drugstore</td>\n",
       "    </tr>\n",
       "    <tr>\n",
       "      <th>4</th>\n",
       "      <td>de_0270868</td>\n",
       "      <td>product_de_0022613</td>\n",
       "      <td>reviewer_de_0736276</td>\n",
       "      <td>1</td>\n",
       "      <td>Meine Kinder haben kaum damit gespielt und nac...</td>\n",
       "      <td>Qualität sehr schlecht</td>\n",
       "      <td>de</td>\n",
       "      <td>toy</td>\n",
       "    </tr>\n",
       "  </tbody>\n",
       "</table>\n",
       "</div>"
      ],
      "text/plain": [
       "    review_id          product_id          reviewer_id  stars  \\\n",
       "0  de_0203609  product_de_0865382  reviewer_de_0267719      1   \n",
       "1  de_0559494  product_de_0678997  reviewer_de_0783625      1   \n",
       "2  de_0238777  product_de_0372235  reviewer_de_0911426      1   \n",
       "3  de_0477884  product_de_0719501  reviewer_de_0836478      1   \n",
       "4  de_0270868  product_de_0022613  reviewer_de_0736276      1   \n",
       "\n",
       "                                         review_body  \\\n",
       "0     Armband ist leider nach 1 Jahr kaputt gegangen   \n",
       "1                 In der Lieferung war nur Ein Akku!   \n",
       "2  Ein Stern, weil gar keine geht nicht. Es hande...   \n",
       "3  Dachte, das wären einfach etwas festere Binden...   \n",
       "4  Meine Kinder haben kaum damit gespielt und nac...   \n",
       "\n",
       "                review_title language  product_category  \n",
       "0  Leider nach 1 Jahr kaputt       de            sports  \n",
       "1   EINS statt ZWEI Akkus!!!       de  home_improvement  \n",
       "2            Achtung Abzocke       de         drugstore  \n",
       "3          Zu viel des Guten       de         drugstore  \n",
       "4     Qualität sehr schlecht       de               toy  "
      ]
     },
     "execution_count": 13,
     "metadata": {},
     "output_type": "execute_result"
    }
   ],
   "source": [
    "# convert to pandas dataframe\n",
    "training_df = pd.DataFrame(dataset['train'])\n",
    "english_training_df = training_df[training_df['language'] == 'en']\n",
    "val_df = pd.DataFrame(dataset['validation'])\n",
    "english_val_df = val_df[val_df['language'] == 'en']\n",
    "training_df.head()"
   ]
  },
  {
   "cell_type": "code",
   "execution_count": 14,
   "metadata": {},
   "outputs": [
    {
     "data": {
      "text/html": [
       "<div>\n",
       "<style scoped>\n",
       "    .dataframe tbody tr th:only-of-type {\n",
       "        vertical-align: middle;\n",
       "    }\n",
       "\n",
       "    .dataframe tbody tr th {\n",
       "        vertical-align: top;\n",
       "    }\n",
       "\n",
       "    .dataframe thead th {\n",
       "        text-align: right;\n",
       "    }\n",
       "</style>\n",
       "<table border=\"1\" class=\"dataframe\">\n",
       "  <thead>\n",
       "    <tr style=\"text-align: right;\">\n",
       "      <th></th>\n",
       "      <th>review_title</th>\n",
       "      <th>review_body</th>\n",
       "      <th>stars</th>\n",
       "    </tr>\n",
       "  </thead>\n",
       "  <tbody>\n",
       "    <tr>\n",
       "      <th>193576</th>\n",
       "      <td>Selber mischen und sparen</td>\n",
       "      <td>Günstiger als Fertigmischungen. Sehr gutes Rei...</td>\n",
       "      <td>5</td>\n",
       "    </tr>\n",
       "    <tr>\n",
       "      <th>508826</th>\n",
       "      <td>Excelente para portátiles, fatal para tablets</td>\n",
       "      <td>Se sale en seguida en las tablets. En el portá...</td>\n",
       "      <td>3</td>\n",
       "    </tr>\n",
       "    <tr>\n",
       "      <th>825253</th>\n",
       "      <td>2週間弱で壊れました</td>\n",
       "      <td>以前使用していた同じタイプのものは5ヶ月で壊れましたが、これは2週間弱ですわ。 使い勝手は良...</td>\n",
       "      <td>1</td>\n",
       "    </tr>\n",
       "    <tr>\n",
       "      <th>804240</th>\n",
       "      <td>商品が届くのがすごく遅い</td>\n",
       "      <td>再配達苛したのにいつまでたっても届かないと思って置き配にしたら知らない人の玄関の写真が送られ...</td>\n",
       "      <td>1</td>\n",
       "    </tr>\n",
       "    <tr>\n",
       "      <th>858620</th>\n",
       "      <td>キャップ‼️</td>\n",
       "      <td>浅いくて形が柔らかく気に入らない。安いのはダメだなぁ〜。別のメーカーの物を購入予定。</td>\n",
       "      <td>2</td>\n",
       "    </tr>\n",
       "  </tbody>\n",
       "</table>\n",
       "</div>"
      ],
      "text/plain": [
       "                                         review_title  \\\n",
       "193576                      Selber mischen und sparen   \n",
       "508826  Excelente para portátiles, fatal para tablets   \n",
       "825253                                     2週間弱で壊れました   \n",
       "804240                                   商品が届くのがすごく遅い   \n",
       "858620                                         キャップ‼️   \n",
       "\n",
       "                                              review_body  stars  \n",
       "193576  Günstiger als Fertigmischungen. Sehr gutes Rei...      5  \n",
       "508826  Se sale en seguida en las tablets. En el portá...      3  \n",
       "825253  以前使用していた同じタイプのものは5ヶ月で壊れましたが、これは2週間弱ですわ。 使い勝手は良...      1  \n",
       "804240  再配達苛したのにいつまでたっても届かないと思って置き配にしたら知らない人の玄関の写真が送られ...      1  \n",
       "858620         浅いくて形が柔らかく気に入らない。安いのはダメだなぁ〜。別のメーカーの物を購入予定。      2  "
      ]
     },
     "execution_count": 14,
     "metadata": {},
     "output_type": "execute_result"
    }
   ],
   "source": [
    "training_df[['review_title', 'review_body', 'stars']].sample(5)"
   ]
  },
  {
   "cell_type": "code",
   "execution_count": null,
   "metadata": {},
   "outputs": [],
   "source": []
  },
  {
   "cell_type": "code",
   "execution_count": null,
   "metadata": {},
   "outputs": [],
   "source": []
  },
  {
   "cell_type": "markdown",
   "metadata": {},
   "source": [
    "# Star prediction (sentiment)"
   ]
  },
  {
   "cell_type": "code",
   "execution_count": 15,
   "metadata": {
    "scrolled": true
   },
   "outputs": [
    {
     "name": "stderr",
     "output_type": "stream",
     "text": [
      "/var/folders/y9/9xqbqkg90tnc0cmm0dxt985m0000gn/T/ipykernel_79201/2710887141.py:1: SettingWithCopyWarning: \n",
      "A value is trying to be set on a copy of a slice from a DataFrame.\n",
      "Try using .loc[row_indexer,col_indexer] = value instead\n",
      "\n",
      "See the caveats in the documentation: https://pandas.pydata.org/pandas-docs/stable/user_guide/indexing.html#returning-a-view-versus-a-copy\n",
      "  english_training_df['prompt'] = english_training_df['review_title'] + '\\n\\n' + english_training_df['review_body'] + '\\n\\n###\\n\\n'\n",
      "/var/folders/y9/9xqbqkg90tnc0cmm0dxt985m0000gn/T/ipykernel_79201/2710887141.py:2: SettingWithCopyWarning: \n",
      "A value is trying to be set on a copy of a slice from a DataFrame.\n",
      "Try using .loc[row_indexer,col_indexer] = value instead\n",
      "\n",
      "See the caveats in the documentation: https://pandas.pydata.org/pandas-docs/stable/user_guide/indexing.html#returning-a-view-versus-a-copy\n",
      "  english_val_df['prompt'] = english_val_df['review_title'] + '\\n\\n' + english_val_df['review_body'] + '\\n\\n###\\n\\n'\n",
      "/var/folders/y9/9xqbqkg90tnc0cmm0dxt985m0000gn/T/ipykernel_79201/2710887141.py:4: SettingWithCopyWarning: \n",
      "A value is trying to be set on a copy of a slice from a DataFrame.\n",
      "Try using .loc[row_indexer,col_indexer] = value instead\n",
      "\n",
      "See the caveats in the documentation: https://pandas.pydata.org/pandas-docs/stable/user_guide/indexing.html#returning-a-view-versus-a-copy\n",
      "  english_training_df['completion'] = ' ' + english_training_df['stars'].astype(str)  # for sentiment\n",
      "/var/folders/y9/9xqbqkg90tnc0cmm0dxt985m0000gn/T/ipykernel_79201/2710887141.py:5: SettingWithCopyWarning: \n",
      "A value is trying to be set on a copy of a slice from a DataFrame.\n",
      "Try using .loc[row_indexer,col_indexer] = value instead\n",
      "\n",
      "See the caveats in the documentation: https://pandas.pydata.org/pandas-docs/stable/user_guide/indexing.html#returning-a-view-versus-a-copy\n",
      "  english_val_df['completion'] = ' ' + english_val_df['stars'].astype(str)  # for sentiment\n"
     ]
    }
   ],
   "source": [
    "english_training_df['prompt'] = english_training_df['review_title'] + '\\n\\n' + english_training_df['review_body'] + '\\n\\n###\\n\\n'\n",
    "english_val_df['prompt'] = english_val_df['review_title'] + '\\n\\n' + english_val_df['review_body'] + '\\n\\n###\\n\\n'\n",
    "\n",
    "english_training_df['completion'] = ' ' + english_training_df['stars'].astype(str)  # for sentiment\n",
    "english_val_df['completion'] = ' ' + english_val_df['stars'].astype(str)  # for sentiment\n",
    "\n",
    "# drop duplicates\n",
    "english_training_df.sample(len(english_training_df)).drop_duplicates(subset=['prompt'])[['prompt', 'completion']].to_json(\"amazon-english-full-train-sentiment-random.jsonl\", orient='records', lines=True)\n",
    "english_val_df.sample(len(english_val_df)).drop_duplicates(subset=['prompt'])[['prompt', 'completion']].to_json(\"amazon-english-full-val-sentiment-random.jsonl\", orient='records', lines=True)\n"
   ]
  },
  {
   "cell_type": "code",
   "execution_count": 16,
   "metadata": {},
   "outputs": [
    {
     "data": {
      "text/plain": [
       "<matplotlib.axes._subplots.AxesSubplot at 0x360922320>"
      ]
     },
     "execution_count": 16,
     "metadata": {},
     "output_type": "execute_result"
    },
    {
     "data": {
      "image/png": "[encoded data removed]",
      "text/plain": [
       "<Figure size 640x480 with 1 Axes>"
      ]
     },
     "metadata": {},
     "output_type": "display_data"
    }
   ],
   "source": [
    "english_training_df['stars'].value_counts().plot(kind='bar')"
   ]
  },
  {
   "cell_type": "code",
   "execution_count": null,
   "metadata": {},
   "outputs": [],
   "source": []
  },
  {
   "cell_type": "code",
   "execution_count": 17,
   "metadata": {},
   "outputs": [
    {
     "name": "stdout",
     "output_type": "stream",
     "text": [
      "Analyzing...\n",
      "\n",
      "- Your file contains 199891 prompt-completion pairs\n",
      "- Based on your data it seems like you're trying to fine-tune a model for classification\n",
      "- For classification, we recommend you try one of the faster and cheaper models, such as `ada`\n",
      "- For classification, you can estimate the expected model performance by keeping a held out dataset, which is not used for training\n",
      "- All prompts end with suffix `\\n\\n###\\n\\n`\n",
      "\n",
      "No remediations found.\n",
      "- [Recommended] Would you like to split into training and validation set? [Y/n]: ^C\n",
      "\n"
     ]
    }
   ],
   "source": [
    "!openai tools fine_tunes.prepare_data -f amazon-english-full-train-sentiment-random.jsonl"
   ]
  },
  {
   "cell_type": "code",
   "execution_count": null,
   "metadata": {},
   "outputs": [],
   "source": []
  },
  {
   "cell_type": "code",
   "execution_count": 44,
   "metadata": {},
   "outputs": [
    {
     "name": "stdout",
     "output_type": "stream",
     "text": [
      "Upload progress: 100%|████████████████████| 50.3M/50.3M [00:00<00:00, 36.5Git/s]\n",
      "Uploaded file from amazon-english-full-train-sentiment-random.jsonl: file-SEDigPmqhtT3QTo20ByIgpus\n",
      "Upload progress: 100%|█████████████████████| 1.27M/1.27M [00:00<00:00, 316Mit/s]\n",
      "Uploaded file from amazon-english-full-val-sentiment-random.jsonl: file-u2ik6qOwMXgDyWsTqwzELdPe\n",
      "Created fine-tune: ft-tnvysbOzvkIfPgtPo6oQ3c7O\n",
      "Streaming events until fine-tuning is complete...\n",
      "\n",
      "(Ctrl-C will interrupt the stream, but not cancel the fine-tune)\n",
      "[2023-05-08 08:51:29] Created fine-tune: ft-tnvysbOzvkIfPgtPo6oQ3c7O\n",
      "^C\n"
     ]
    }
   ],
   "source": [
    "!openai api fine_tunes.create -t \"amazon-english-full-train-sentiment-random.jsonl\" -v \"amazon-english-full-val-sentiment-random.jsonl\" --compute_classification_metrics --classification_n_classes 5 -m ada --n_epochs 1\n"
   ]
  },
  {
   "cell_type": "code",
   "execution_count": 51,
   "metadata": {},
   "outputs": [
    {
     "name": "stdout",
     "output_type": "stream",
     "text": [
      "[2023-05-08 08:51:29] Created fine-tune: ft-tnvysbOzvkIfPgtPo6oQ3c7O\n",
      "[2023-05-08 08:53:19] Fine-tune costs $4.26\n",
      "[2023-05-08 08:53:19] Fine-tune enqueued. Queue number: 2\n",
      "[2023-05-08 08:56:21] Fine-tune is in the queue. Queue number: 1\n",
      "[2023-05-08 08:57:30] Fine-tune is in the queue. Queue number: 0\n",
      "[2023-05-08 08:59:17] Fine-tune started\n",
      "[2023-05-08 09:23:11] Completed epoch 1/1\n",
      "[2023-05-08 09:25:48] Uploaded model: ada:ft-personal-2023-05-08-16-25-48\n",
      "[2023-05-08 09:25:49] Uploaded result file: file-QHhhi05wgj0eBQGnpPLxXBaT\n",
      "[2023-05-08 09:25:49] Fine-tune succeeded\n",
      "\n",
      "Job complete! Status: succeeded 🎉\n",
      "Try out your fine-tuned model:\n",
      "\n",
      "openai api completions.create -m ada:ft-personal-2023-05-08-16-25-48 -p <YOUR_PROMPT>\n"
     ]
    }
   ],
   "source": [
    "!openai api fine_tunes.follow -i ft-tnvysbOzvkIfPgtPo6oQ3c7O\n"
   ]
  },
  {
   "cell_type": "code",
   "execution_count": 52,
   "metadata": {
    "scrolled": true
   },
   "outputs": [
    {
     "name": "stdout",
     "output_type": "stream",
     "text": [
      "\u001b[34m\u001b[1mwandb\u001b[0m: Currently logged in as: \u001b[33mprofoz\u001b[0m. Use \u001b[1m`wandb login --relogin`\u001b[0m to force relogin\n",
      "\u001b[34m\u001b[1mwandb\u001b[0m: wandb version 0.15.2 is available!  To upgrade, please run:\n",
      "\u001b[34m\u001b[1mwandb\u001b[0m:  $ pip install wandb --upgrade\n",
      "\u001b[34m\u001b[1mwandb\u001b[0m: Tracking run with wandb version 0.14.0\n",
      "\u001b[34m\u001b[1mwandb\u001b[0m: Run data is saved locally in \u001b[35m\u001b[1m/Users/sinanozdemir/Teaching/Pearson/oreilly-hands-on-gpt-llm/notebooks/wandb/run-20230508_092918-ft-tnvysbOzvkIfPgtPo6oQ3c7O\u001b[0m\n",
      "\u001b[34m\u001b[1mwandb\u001b[0m: Run \u001b[1m`wandb offline`\u001b[0m to turn off syncing.\n",
      "\u001b[34m\u001b[1mwandb\u001b[0m: Syncing run \u001b[33mft-tnvysbOzvkIfPgtPo6oQ3c7O\u001b[0m\n",
      "\u001b[34m\u001b[1mwandb\u001b[0m: ⭐️ View project at \u001b[34m\u001b[4mhttps://wandb.ai/profoz/GPT-3\u001b[0m\n",
      "\u001b[34m\u001b[1mwandb\u001b[0m: 🚀 View run at \u001b[34m\u001b[4mhttps://wandb.ai/profoz/GPT-3/runs/ft-tnvysbOzvkIfPgtPo6oQ3c7O\u001b[0m\n",
      "\u001b[34m\u001b[1mwandb\u001b[0m: Waiting for W&B process to finish... \u001b[32m(success).\u001b[0m\n",
      "\u001b[34m\u001b[1mwandb\u001b[0m: \n",
      "\u001b[34m\u001b[1mwandb\u001b[0m: Run history:\n",
      "\u001b[34m\u001b[1mwandb\u001b[0m:          classification/accuracy ▁\n",
      "\u001b[34m\u001b[1mwandb\u001b[0m: classification/weighted_f1_score ▁\n",
      "\u001b[34m\u001b[1mwandb\u001b[0m:                 elapsed_examples ▁▁▁▂▂▂▂▂▂▃▃▃▃▃▃▄▄▄▄▄▅▅▅▅▅▅▆▆▆▆▆▇▇▇▇▇▇███\n",
      "\u001b[34m\u001b[1mwandb\u001b[0m:                   elapsed_tokens ▁▁▁▂▂▂▂▂▂▃▃▃▃▃▄▄▄▄▄▄▅▅▅▅▅▅▆▆▆▆▆▇▇▇▇▇▇███\n",
      "\u001b[34m\u001b[1mwandb\u001b[0m:                    training_loss █▆▅▄▃▃▇▁▃▅▅▇▃▅▂▅▄▃▆▅▃▃▆▆▃▆▃▅█▆▄▃▁▃▄▅▆▂▂▃\n",
      "\u001b[34m\u001b[1mwandb\u001b[0m:       training_sequence_accuracy ▁▇▇▇▇▇▇█▇▇██▇█▇▇██▇▇█▇▇▇▇▇█▇█▇█▇▇█▇▇▇▇▇█\n",
      "\u001b[34m\u001b[1mwandb\u001b[0m:          training_token_accuracy ▁▇▇▇▇▇▇█▇▇██▇█▇▇██▇▇█▇▇▇▇▇█▇█▇█▇▇█▇▇▇▇▇█\n",
      "\u001b[34m\u001b[1mwandb\u001b[0m:                  validation_loss █▁▁▁▂▂▁▁▂▁▁▂▂▁▁▁▁▂▂▁▁▁▂▁▁▁▁▂▁▂▂▁▁▂▁▂▁▁▂▁\n",
      "\u001b[34m\u001b[1mwandb\u001b[0m:     validation_sequence_accuracy ▁▆▇▇▇▇▇█▇▇▇▇▇▇▇▇▇▇▇▇▇▇██▇███▇▇██▇▇▇███▇▇\n",
      "\u001b[34m\u001b[1mwandb\u001b[0m:        validation_token_accuracy ▁▆▇▇▇▇▇█▇▇▇▇▇▇▇▇▇▇▇▇▇▇██▇███▇▇██▇▇▇███▇▇\n",
      "\u001b[34m\u001b[1mwandb\u001b[0m: \n",
      "\u001b[34m\u001b[1mwandb\u001b[0m: Run summary:\n",
      "\u001b[34m\u001b[1mwandb\u001b[0m:          classification/accuracy 0.661\n",
      "\u001b[34m\u001b[1mwandb\u001b[0m: classification/weighted_f1_score 0.65943\n",
      "\u001b[34m\u001b[1mwandb\u001b[0m:                 elapsed_examples 200192.0\n",
      "\u001b[34m\u001b[1mwandb\u001b[0m:                   elapsed_tokens 65191424.0\n",
      "\u001b[34m\u001b[1mwandb\u001b[0m:                 fine_tuned_model ada:ft-personal-2023...\n",
      "\u001b[34m\u001b[1mwandb\u001b[0m:                           status succeeded\n",
      "\u001b[34m\u001b[1mwandb\u001b[0m:                    training_loss 0.00503\n",
      "\u001b[34m\u001b[1mwandb\u001b[0m:       training_sequence_accuracy 0.60156\n",
      "\u001b[34m\u001b[1mwandb\u001b[0m:          training_token_accuracy 0.60156\n",
      "\u001b[34m\u001b[1mwandb\u001b[0m:                  validation_loss 0.00498\n",
      "\u001b[34m\u001b[1mwandb\u001b[0m:     validation_sequence_accuracy 0.63281\n",
      "\u001b[34m\u001b[1mwandb\u001b[0m:        validation_token_accuracy 0.63281\n",
      "\u001b[34m\u001b[1mwandb\u001b[0m: \n",
      "\u001b[34m\u001b[1mwandb\u001b[0m: 🚀 View run \u001b[33mft-tnvysbOzvkIfPgtPo6oQ3c7O\u001b[0m at: \u001b[34m\u001b[4mhttps://wandb.ai/profoz/GPT-3/runs/ft-tnvysbOzvkIfPgtPo6oQ3c7O\u001b[0m\n",
      "\u001b[34m\u001b[1mwandb\u001b[0m: Synced 4 W&B file(s), 0 media file(s), 5 artifact file(s) and 0 other file(s)\n",
      "\u001b[34m\u001b[1mwandb\u001b[0m: Find logs at: \u001b[35m\u001b[1m./wandb/run-20230508_092918-ft-tnvysbOzvkIfPgtPo6oQ3c7O/logs\u001b[0m\n",
      "🎉 wandb sync completed successfully\n"
     ]
    }
   ],
   "source": [
    "!openai wandb sync -i ft-tnvysbOzvkIfPgtPo6oQ3c7O\n"
   ]
  },
  {
   "cell_type": "code",
   "execution_count": null,
   "metadata": {},
   "outputs": [],
   "source": [
    "# ft-tnvysbOzvkIfPgtPo6oQ3c7O ada:ft-personal-2023-05-08-16-25-48"
   ]
  },
  {
   "cell_type": "code",
   "execution_count": 53,
   "metadata": {},
   "outputs": [],
   "source": [
    "test_df = pd.DataFrame(dataset['test'])\n",
    "english_test_df = test_df[test_df['language'] == 'en']\n"
   ]
  },
  {
   "cell_type": "code",
   "execution_count": 54,
   "metadata": {
    "scrolled": true
   },
   "outputs": [
    {
     "name": "stderr",
     "output_type": "stream",
     "text": [
      "/var/folders/y9/9xqbqkg90tnc0cmm0dxt985m0000gn/T/ipykernel_79201/453605618.py:1: SettingWithCopyWarning: \n",
      "A value is trying to be set on a copy of a slice from a DataFrame.\n",
      "Try using .loc[row_indexer,col_indexer] = value instead\n",
      "\n",
      "See the caveats in the documentation: https://pandas.pydata.org/pandas-docs/stable/user_guide/indexing.html#returning-a-view-versus-a-copy\n",
      "  english_test_df['completion'] = ' ' + english_test_df['stars'].astype(str)  # for sentiment\n",
      "/var/folders/y9/9xqbqkg90tnc0cmm0dxt985m0000gn/T/ipykernel_79201/453605618.py:2: SettingWithCopyWarning: \n",
      "A value is trying to be set on a copy of a slice from a DataFrame.\n",
      "Try using .loc[row_indexer,col_indexer] = value instead\n",
      "\n",
      "See the caveats in the documentation: https://pandas.pydata.org/pandas-docs/stable/user_guide/indexing.html#returning-a-view-versus-a-copy\n",
      "  english_test_df['prompt'] = english_test_df['review_title'] + '\\n\\n' + english_test_df['review_body'] + '\\n\\n###\\n\\n'\n"
     ]
    }
   ],
   "source": [
    "english_test_df['completion'] = ' ' + english_test_df['stars'].astype(str)  # for sentiment\n",
    "english_test_df['prompt'] = english_test_df['review_title'] + '\\n\\n' + english_test_df['review_body'] + '\\n\\n###\\n\\n'\n"
   ]
  },
  {
   "cell_type": "code",
   "execution_count": 59,
   "metadata": {},
   "outputs": [],
   "source": [
    "def classify(prompt, model, answer=None):\n",
    "    res = openai.Completion.create(\n",
    "        model=model, \n",
    "        prompt=prompt,\n",
    "        max_tokens=1, \n",
    "        temperature=0, \n",
    "        logprobs=5,\n",
    "    )\n",
    "    probs = []\n",
    "    logprobs = res['choices'][0]['logprobs']['top_logprobs']\n",
    "    for logprob in logprobs:\n",
    "        _probs = {}\n",
    "        for key, value in logprob.items():\n",
    "            _probs[key] = math.exp(value)\n",
    "\n",
    "        probs.append(_probs)\n",
    "    pred = res['choices'][0].text.strip()\n",
    "    if answer:\n",
    "        correct = str(answer).strip().startswith(pred)\n",
    "    else:\n",
    "        correct = None\n",
    "    return pred, answer, correct, probs"
   ]
  },
  {
   "cell_type": "code",
   "execution_count": 60,
   "metadata": {},
   "outputs": [
    {
     "name": "stdout",
     "output_type": "stream",
     "text": [
      "Don’t waste your time!\n",
      "\n",
      "These are AWFUL. They are see through, the fabric feels like tablecloth, and they fit like children’s clothing. Customer service did seem to be nice though, but I regret missing my return date for these. I wouldn’t even donate them because the quality is so poor.\n",
      "\n",
      "###\n",
      "\n",
      "\n"
     ]
    }
   ],
   "source": [
    "print(english_test_df['prompt'].iloc[0])"
   ]
  },
  {
   "cell_type": "code",
   "execution_count": 61,
   "metadata": {},
   "outputs": [
    {
     "data": {
      "text/plain": [
       "('1',\n",
       " None,\n",
       " None,\n",
       " [{' 1': 0.8787214989592752,\n",
       "   ' 2': 0.11114515825272768,\n",
       "   ' 3': 0.009247671397136115,\n",
       "   ' 4': 0.00040601234192277793,\n",
       "   ' 5': 0.0004006849100512386}])"
      ]
     },
     "execution_count": 61,
     "metadata": {},
     "output_type": "execute_result"
    }
   ],
   "source": [
    "classify(english_test_df['prompt'].iloc[0], 'ada:ft-personal-2023-05-08-16-25-48')\n"
   ]
  },
  {
   "cell_type": "code",
   "execution_count": 64,
   "metadata": {},
   "outputs": [
    {
     "data": {
      "application/vnd.jupyter.widget-view+json": {
       "model_id": "0c18ef7070d4455b84fba021d08fcd08",
       "version_major": 2,
       "version_minor": 0
      },
      "text/plain": [
       "  0%|          | 0/5000 [00:00<?, ?it/s]"
      ]
     },
     "metadata": {},
     "output_type": "display_data"
    }
   ],
   "source": [
    "from tqdm.auto import tqdm\n",
    "correct = 0\n",
    "stars_preds = []\n",
    "\n",
    "for i in tqdm(range(english_test_df.shape[0])):\n",
    "    _pred, _answer, _correct, _probs = classify(\n",
    "        english_test_df['prompt'].iloc[i], \n",
    "        'ada:ft-personal-2023-05-08-16-25-48', \n",
    "        english_test_df['stars'].iloc[i]\n",
    "    )\n",
    "    correct += _correct\n",
    "    stars_preds.append(_pred)"
   ]
  },
  {
   "cell_type": "markdown",
   "metadata": {},
   "source": [
    "# Straight Accuracy (5 classes (1, 2, 3, 4, 5)"
   ]
  },
  {
   "cell_type": "code",
   "execution_count": 68,
   "metadata": {},
   "outputs": [
    {
     "data": {
      "text/plain": [
       "0.6692"
      ]
     },
     "execution_count": 68,
     "metadata": {},
     "output_type": "execute_result"
    }
   ],
   "source": [
    "import numpy as np\n",
    "(np.array(stars_preds).astype(int) == english_test_df['stars'].astype(int)).mean()"
   ]
  },
  {
   "cell_type": "markdown",
   "metadata": {},
   "source": [
    "# Re-labeling to have 3 classes ([1, 2], [3], [4, 5])"
   ]
  },
  {
   "cell_type": "code",
   "execution_count": 88,
   "metadata": {},
   "outputs": [
    {
     "data": {
      "text/plain": [
       "0.8264"
      ]
     },
     "execution_count": 88,
     "metadata": {},
     "output_type": "execute_result"
    }
   ],
   "source": [
    "def relabel(x):\n",
    "    x = int(x)\n",
    "    if x < 3:\n",
    "        return 0\n",
    "    elif x == 3:\n",
    "        return 1\n",
    "    else:\n",
    "        return 2\n",
    "    \n",
    "# \"predicting if stars < 3, 3, or >3\" three class classification accuracy\n",
    "(pd.Series(stars_preds).map(relabel).to_numpy() == english_test_df['stars'].map(relabel).to_numpy()).mean()"
   ]
  },
  {
   "cell_type": "markdown",
   "metadata": {},
   "source": [
    "# Re-labeling to have 2 classes ([1, 2, 3], [4, 5])"
   ]
  },
  {
   "cell_type": "code",
   "execution_count": 89,
   "metadata": {},
   "outputs": [
    {
     "data": {
      "text/plain": [
       "0.9168"
      ]
     },
     "execution_count": 89,
     "metadata": {},
     "output_type": "execute_result"
    }
   ],
   "source": [
    "# \"predicting if stars < 4 vs >= 4\" binary classification accuracy\n",
    "((np.array(stars_preds).astype(int) <= 4) == (english_test_df['stars'].astype(int) <= 4)).mean()"
   ]
  },
  {
   "cell_type": "markdown",
   "metadata": {},
   "source": [
    "# Allowing up to 1 degree of error (\"1-off\")"
   ]
  },
  {
   "cell_type": "code",
   "execution_count": 70,
   "metadata": {},
   "outputs": [
    {
     "data": {
      "text/plain": [
       "0.9632"
      ]
     },
     "execution_count": 70,
     "metadata": {},
     "output_type": "execute_result"
    }
   ],
   "source": [
    "# Accuracy (off-by-1 so predicting 4 when the answer was 3 or 5 is still correct)\n",
    "((np.array(stars_preds).astype(int) - english_test_df['stars'].astype(int)).abs() <= 1).mean()"
   ]
  },
  {
   "cell_type": "code",
   "execution_count": null,
   "metadata": {},
   "outputs": [],
   "source": []
  }
 ],
 "metadata": {
  "interpreter": {
   "hash": "3b138a8faad971cc852f62bcf00f59ea0e31721743ea2c5a866ca26adf572e75"
  },
  "kernelspec": {
   "display_name": "Python 3 (ipykernel)",
   "language": "python",
   "name": "python3"
  },
  "language_info": {
   "codemirror_mode": {
    "name": "ipython",
    "version": 3
   },
   "file_extension": ".py",
   "mimetype": "text/x-python",
   "name": "python",
   "nbconvert_exporter": "python",
   "pygments_lexer": "ipython3",
   "version": "3.10.11"
  }
 },
 "nbformat": 4,
 "nbformat_minor": 2
}
