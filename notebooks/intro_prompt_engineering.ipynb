{
 "cells": [
  {
   "cell_type": "code",
   "execution_count": 1,
   "id": "eaaccb4d",
   "metadata": {},
   "outputs": [],
   "source": [
    "import os\n",
    "import openai\n",
    "import cohere"
   ]
  },
  {
   "cell_type": "code",
   "execution_count": 4,
   "id": "c615397d",
   "metadata": {},
   "outputs": [],
   "source": [
    "co = cohere.Client(os.getenv('COHERE_API_KEY'))\n",
    "openai.api_key = os.getenv(\"OPENAI_API_KEY\")\n"
   ]
  },
  {
   "cell_type": "code",
   "execution_count": 5,
   "id": "694bb77f",
   "metadata": {
    "scrolled": true
   },
   "outputs": [],
   "source": [
    "def test_prompt_openai(prompt, suppress=False, model='text-davinci-003', **kwargs):\n",
    "\n",
    "    response = openai.Completion.create(\n",
    "      model=model,\n",
    "      prompt=prompt,\n",
    "      max_tokens=256,\n",
    "      **kwargs\n",
    "    )\n",
    "    answer = response.choices[0].text\n",
    "    if not suppress:\n",
    "        print(f'PROMPT:\\n------\\n{prompt}\\n------\\nRESPONSE\\n------\\n{answer}')\n",
    "    else:\n",
    "        return answer\n"
   ]
  },
  {
   "cell_type": "code",
   "execution_count": 6,
   "id": "3c35e826",
   "metadata": {},
   "outputs": [],
   "source": [
    "def test_prompt_cohere(prompt, suppress=False, model='command-xlarge', **kwargs):\n",
    "    response = co.generate(\n",
    "        model=model,\n",
    "        prompt=prompt,\n",
    "        **kwargs,\n",
    "      )\n",
    "    if not suppress:\n",
    "        print(f'PROMPT:\\n------\\n{prompt}\\n------\\nRESPONSE\\n------\\n{response.generations[0].text}')"
   ]
  },
  {
   "cell_type": "markdown",
   "id": "fb55d646",
   "metadata": {},
   "source": [
    "## Just ASK"
   ]
  },
  {
   "cell_type": "code",
   "execution_count": 7,
   "id": "989b22d8",
   "metadata": {},
   "outputs": [
    {
     "name": "stdout",
     "output_type": "stream",
     "text": [
      "PROMPT:\n",
      "------\n",
      "Translate to Turkish.\n",
      "\n",
      "Where is the nearest restaurant?\n",
      "------\n",
      "RESPONSE\n",
      "------\n",
      "\n",
      "\n",
      "En yakın restoran nerede?\n"
     ]
    }
   ],
   "source": [
    "test_prompt_openai('Translate to Turkish.\\n\\nWhere is the nearest restaurant?')"
   ]
  },
  {
   "cell_type": "code",
   "execution_count": 8,
   "id": "a5422fa7",
   "metadata": {},
   "outputs": [
    {
     "name": "stdout",
     "output_type": "stream",
     "text": [
      "PROMPT:\n",
      "------\n",
      "Translate to Turkish.\n",
      "\n",
      "Where is the nearest restaurant?\n",
      "------\n",
      "RESPONSE\n",
      "------\n",
      " En yakındaki yemek lokasyonunu bilmiyordum\n"
     ]
    }
   ],
   "source": [
    "test_prompt_cohere('Translate to Turkish.\\n\\nWhere is the nearest restaurant?')"
   ]
  },
  {
   "cell_type": "code",
   "execution_count": 9,
   "id": "2b315fe0",
   "metadata": {},
   "outputs": [
    {
     "name": "stdout",
     "output_type": "stream",
     "text": [
      "PROMPT:\n",
      "------\n",
      "Translate to Turkish.\n",
      "\n",
      "English: Where is the nearest restaurant?\n",
      "Turkish:\n",
      "------\n",
      "RESPONSE\n",
      "------\n",
      " En iyi lokanta nedeniyle nerede?\n"
     ]
    }
   ],
   "source": [
    "# depending on the capability of the model, you may need to coax it to structure the output better\n",
    "# Not the best Turkish..\n",
    "test_prompt_cohere('Translate to Turkish.\\n\\nEnglish: Where is the nearest restaurant?\\nTurkish:')"
   ]
  },
  {
   "cell_type": "code",
   "execution_count": 10,
   "id": "2bc22b38",
   "metadata": {},
   "outputs": [
    {
     "name": "stdout",
     "output_type": "stream",
     "text": [
      "PROMPT:\n",
      "------\n",
      "Translate to Turkish.\n",
      "\n",
      "English: Where is the nearest restaurant?\n",
      "Turkish:\n",
      "------\n",
      "RESPONSE\n",
      "------\n",
      " En yakınızı hangi restoranız var?\n"
     ]
    }
   ],
   "source": [
    "# depending on the capability of the model, you may need to coax it to structure the output better\n",
    "# Not the best Turkish..\n",
    "test_prompt_cohere('Translate to Turkish.\\n\\nEnglish: Where is the nearest restaurant?\\nTurkish:')"
   ]
  },
  {
   "cell_type": "markdown",
   "id": "294d176c",
   "metadata": {},
   "source": [
    "# Few-shot learning\n",
    "\n",
    "Using examples to \"teach\" GPT-3 what to do\n",
    "\n",
    "## The original GPT-3 paper was called:\n",
    "![gpt3_paper.png](../images/gpt3_paper.png)"
   ]
  },
  {
   "cell_type": "code",
   "execution_count": 11,
   "id": "64dc5dc5",
   "metadata": {},
   "outputs": [
    {
     "name": "stdout",
     "output_type": "stream",
     "text": [
      "PROMPT:\n",
      "------\n",
      "Review: This movie sucks\n",
      "Subjective: Yes\n",
      "###\n",
      "Review: This tv show was about the ocean\n",
      "Subjective: No\n",
      "###\n",
      "Review: This book had a lot of flaws\n",
      "Subjective: Yes\n",
      "###\n",
      "Review: The book was about WWII\n",
      "Subjective:\n",
      "------\n",
      "RESPONSE\n",
      "------\n",
      " No\n"
     ]
    }
   ],
   "source": [
    "examples = [\n",
    "    ('Review: This movie sucks\\nSubjective: Yes'),\n",
    "    ('Review: This tv show was about the ocean\\nSubjective: No'),\n",
    "    ('Review: This book had a lot of flaws\\nSubjective: Yes'),\n",
    "    \n",
    "    ('Review: The book was about WWII\\nSubjective:'),\n",
    "]\n",
    "\n",
    "test_prompt_openai('\\n###\\n'.join(examples))  # ### is a common few-shot separator"
   ]
  },
  {
   "cell_type": "code",
   "execution_count": 12,
   "id": "fd424801",
   "metadata": {},
   "outputs": [
    {
     "name": "stdout",
     "output_type": "stream",
     "text": [
      "PROMPT:\n",
      "------\n",
      "Review: This movie sucks\n",
      "Subjective: Yes\n",
      "###\n",
      "Review: This tv show was about the ocean\n",
      "Subjective: No\n",
      "###\n",
      "Review: This book had a lot of flaws\n",
      "Subjective: Yes\n",
      "###\n",
      "Review: The book was about WWII\n",
      "Subjective:\n",
      "------\n",
      "RESPONSE\n",
      "------\n",
      " Yes\n"
     ]
    }
   ],
   "source": [
    "# Cohere is not getting this example right\n",
    "test_prompt_cohere('\\n###\\n'.join(examples))  # ### is a common few-shot separator"
   ]
  },
  {
   "cell_type": "code",
   "execution_count": null,
   "id": "f5a5d1b2",
   "metadata": {},
   "outputs": [],
   "source": []
  },
  {
   "cell_type": "code",
   "execution_count": 13,
   "id": "015fe18e",
   "metadata": {},
   "outputs": [
    {
     "name": "stdout",
     "output_type": "stream",
     "text": [
      "PROMPT:\n",
      "------\n",
      "Review: The book was about WWII\n",
      "Subjective:\n",
      "------\n",
      "RESPONSE\n",
      "------\n",
      "\n",
      "I thought the book was a fascinating look into the events of WWII. It gave an in-depth perspective of the war from many different angles, giving a truly holistic understanding of the conflict. The detail in the writing was riveting, and it kept me engaged from start to finish. Overall, it was an excellent read!\n"
     ]
    }
   ],
   "source": [
    "# Without the examples:\n",
    "test_prompt_openai('Review: The book was about WWII\\nSubjective:')"
   ]
  },
  {
   "cell_type": "code",
   "execution_count": 14,
   "id": "63a864d5",
   "metadata": {},
   "outputs": [
    {
     "name": "stdout",
     "output_type": "stream",
     "text": [
      "PROMPT:\n",
      "------\n",
      "Tell me the subjectivity of this review.\n",
      "\n",
      "Review: The book was about WWII\n",
      "Subjective:\n",
      "------\n",
      "RESPONSE\n",
      "------\n",
      " The book was hard to put down and had me hooked from the first page!\n"
     ]
    }
   ],
   "source": [
    "# With a prompt\n",
    "test_prompt_openai('Tell me the subjectivity of this review.\\n\\nReview: The book was about WWII\\nSubjective:')"
   ]
  },
  {
   "cell_type": "code",
   "execution_count": 15,
   "id": "a161cd1d",
   "metadata": {},
   "outputs": [
    {
     "name": "stdout",
     "output_type": "stream",
     "text": [
      "PROMPT:\n",
      "------\n",
      "Tell me the subjectivity of this review with either \"Yes\" or \"No\".\n",
      "\n",
      "Review: The book was about WWII\n",
      "Subjective:\n",
      "------\n",
      "RESPONSE\n",
      "------\n",
      " No\n"
     ]
    }
   ],
   "source": [
    "# Be more specific about the output\n",
    "test_prompt_openai('Tell me the subjectivity of this review with either \"Yes\" or \"No\".\\n\\nReview: The book was about WWII\\nSubjective:')"
   ]
  },
  {
   "cell_type": "code",
   "execution_count": 16,
   "id": "bd71cafb",
   "metadata": {},
   "outputs": [
    {
     "name": "stdout",
     "output_type": "stream",
     "text": [
      "PROMPT:\n",
      "------\n",
      "Tell me the subjectivity of this review with either \"Yes\" or \"No\".\n",
      "\n",
      "Review: The fight scenes were the best part!\n",
      "Subjective:\n",
      "------\n",
      "RESPONSE\n",
      "------\n",
      " Yes\n"
     ]
    }
   ],
   "source": [
    "# A different review\n",
    "test_prompt_openai('Tell me the subjectivity of this review with either \"Yes\" or \"No\".\\n\\nReview: The fight scenes were the best part!\\nSubjective:')"
   ]
  },
  {
   "cell_type": "code",
   "execution_count": null,
   "id": "ba8c8cfa",
   "metadata": {},
   "outputs": [],
   "source": []
  },
  {
   "cell_type": "code",
   "execution_count": 17,
   "id": "29c1c74b",
   "metadata": {},
   "outputs": [
    {
     "name": "stdout",
     "output_type": "stream",
     "text": [
      "PROMPT:\n",
      "------\n",
      "Tell me the subjectivity of this review with either \"Yes\" or \"No\". Also as a JSON.\n",
      "\n",
      "Review: The book was about WWII\n",
      "Subjective:\n",
      "------\n",
      "RESPONSE\n",
      "------\n",
      " No\n",
      "\n",
      "{\"subjective\": \"No\"}\n"
     ]
    }
   ],
   "source": [
    "# Be more specific about the output\n",
    "test_prompt_openai('Tell me the subjectivity of this review with either \"Yes\" or \"No\". Also as a JSON.\\n\\nReview: The book was about WWII\\nSubjective:')\n"
   ]
  },
  {
   "cell_type": "code",
   "execution_count": null,
   "id": "642e06f4",
   "metadata": {},
   "outputs": [],
   "source": []
  },
  {
   "cell_type": "markdown",
   "id": "17dc1f76",
   "metadata": {},
   "source": [
    "# Personas / Style"
   ]
  },
  {
   "cell_type": "code",
   "execution_count": 18,
   "id": "fc5e593f",
   "metadata": {},
   "outputs": [],
   "source": [
    "# It only takes a few words to pretty drastically change the output"
   ]
  },
  {
   "cell_type": "code",
   "execution_count": 19,
   "id": "d438f619",
   "metadata": {},
   "outputs": [
    {
     "name": "stdout",
     "output_type": "stream",
     "text": [
      "PROMPT:\n",
      "------\n",
      "Respond to the customer as a rude customer service agent.\n",
      "\n",
      "Customer: Hey! I cannot seem to get into my account. Can you help?\n",
      "Agent:\n",
      "------\n",
      "RESPONSE\n",
      "------\n",
      " What kind of help do you need? \n",
      "\n",
      "It's your responsibility to figure out how to access your account. I suggest you read the instructions carefully or contact your account provider.\n"
     ]
    }
   ],
   "source": [
    "style = 'rude'\n",
    "test_prompt_openai(f'Respond to the customer as a {style} customer service agent.\\n\\nCustomer: Hey! I cannot seem to get into my account. Can you help?\\nAgent:')\n"
   ]
  },
  {
   "cell_type": "code",
   "execution_count": 20,
   "id": "185eba56",
   "metadata": {},
   "outputs": [
    {
     "name": "stdout",
     "output_type": "stream",
     "text": [
      "PROMPT:\n",
      "------\n",
      "Respond to the customer as a friendly customer service agent.\n",
      "\n",
      "Customer: Hey! I cannot seem to get into my account. Can you help?\n",
      "Agent:\n",
      "------\n",
      "RESPONSE\n",
      "------\n",
      " Hi there! I'm sorry to hear that. Let's see what we can do to get you into your account. Can you provide me with your username and email address that you used to sign up for the account?\n"
     ]
    }
   ],
   "source": [
    "style = 'friendly'\n",
    "test_prompt_openai(f'Respond to the customer as a {style} customer service agent.\\n\\nCustomer: Hey! I cannot seem to get into my account. Can you help?\\nAgent:')\n"
   ]
  },
  {
   "cell_type": "code",
   "execution_count": 21,
   "id": "c3b69af8",
   "metadata": {},
   "outputs": [
    {
     "name": "stdout",
     "output_type": "stream",
     "text": [
      "PROMPT:\n",
      "------\n",
      "Respond to the customer as a yoda customer service agent.\n",
      "\n",
      "Customer: Hey! I cannot seem to get into my account. Can you help?\n",
      "Agent:\n",
      "------\n",
      "RESPONSE\n",
      "------\n",
      " Help, you will need? Assisting, I will gladly be.\n"
     ]
    }
   ],
   "source": [
    "style = 'yoda'\n",
    "test_prompt_openai(f'Respond to the customer as a {style} customer service agent.\\n\\nCustomer: Hey! I cannot seem to get into my account. Can you help?\\nAgent:')\n"
   ]
  },
  {
   "cell_type": "markdown",
   "id": "48f6a067",
   "metadata": {},
   "source": [
    "# Temperature=0 means more consistency"
   ]
  },
  {
   "cell_type": "code",
   "execution_count": 22,
   "id": "ccd993c1",
   "metadata": {},
   "outputs": [
    {
     "name": "stderr",
     "output_type": "stream",
     "text": [
      "100%|███████████████████████████████████████████| 10/10 [00:07<00:00,  1.25it/s]\n"
     ]
    }
   ],
   "source": [
    "from tqdm import tqdm\n",
    "\n",
    "style = 'friendly'\n",
    "responses = []\n",
    "for _ in tqdm(range(10)):\n",
    "    responses.append(test_prompt_openai(\n",
    "        f'Respond to the customer as a {style} customer service agent.\\n\\nCustomer: Hey! I cannot seem to get into my account. Can you help?\\nAgent:',\n",
    "        temperature=0,\n",
    "\n",
    "        suppress=True\n",
    "    ))\n"
   ]
  },
  {
   "cell_type": "code",
   "execution_count": 23,
   "id": "ea44da0c",
   "metadata": {},
   "outputs": [
    {
     "data": {
      "text/plain": [
       "([\" Hi there! I'd be happy to help you get into your account. Can you tell me what type of account it is?\",\n",
       "  \" Hi there! I'd be happy to help you get into your account. Can you tell me what issue you're having?\",\n",
       "  \" Hi there! I'd be happy to help. Can you tell me what type of account you are trying to access?\",\n",
       "  \" Hi there! I'd be happy to help you get into your account. Can you tell me what issue you're having?\",\n",
       "  \" Hi there! I'd be happy to help. Can you tell me what type of account you are trying to access?\",\n",
       "  \" Hi there! I'd be happy to help. Can you tell me what type of account you are trying to access?\",\n",
       "  \" Hi there! I'd be happy to help. Can you tell me what type of account you are trying to access?\",\n",
       "  \" Hi there! I'd be happy to help you get into your account. Can you tell me what type of account it is?\",\n",
       "  \" Hi there! I'd be happy to help you get into your account. Can you tell me what type of account it is?\",\n",
       "  \" Hi there! I'd be happy to help you get into your account. Can you tell me what type of account it is and what issue you're having?\"],\n",
       " 4)"
      ]
     },
     "execution_count": 23,
     "metadata": {},
     "output_type": "execute_result"
    }
   ],
   "source": [
    "# only 4 unique responses\n",
    "responses, len(set(responses))"
   ]
  },
  {
   "cell_type": "markdown",
   "id": "bbf101ec",
   "metadata": {},
   "source": [
    "# Temperature=1 means more creativity"
   ]
  },
  {
   "cell_type": "code",
   "execution_count": 24,
   "id": "33a92353",
   "metadata": {},
   "outputs": [
    {
     "name": "stderr",
     "output_type": "stream",
     "text": [
      "100%|███████████████████████████████████████████| 10/10 [00:10<00:00,  1.07s/it]\n"
     ]
    },
    {
     "data": {
      "text/plain": [
       "([\" Absolutely! I'm sorry to hear that you're having trouble getting into your account. Can you tell me what kind of problem you are having?\",\n",
       "  \" Hi there, I'm sorry to hear that you're having trouble getting into your account. I'd be more than happy to help you with this. Can I please have your account information so I can take a look and see what might be causing the issue?\",\n",
       "  \" Hi there! I'd love to help you out. Can you tell me your username or email address associated with your account?\",\n",
       "  \" Hi there! I understand that you're having trouble accessing your account. Let's see if we can get that sorted out for you. Can you please confirm your email address or phone number associated with your account?\",\n",
       "  ' Of course! We can get you logged in. Could you please provide your account username and password so we can take a look?',\n",
       "  \" Hi there, I apologize for the inconvenience you're having. Would you be able to please provide your account information so I can take a look?\",\n",
       "  ' Hi there! Of course I can help. Can you tell me what kind of problem you are having?',\n",
       "  \" Hi there! Absolutely, I'd be more than happy to help. Can you please tell me the issue you're having so that I can assist you?\",\n",
       "  ' Of course I can help! Can you tell me your email address so that I can look into this for you?',\n",
       "  ' Hi there! I would be more than happy to help you access your account. Before we get started, do you mind providing me with a few basic details, such as your name and account number? That will help me look into this for you.'],\n",
       " 10)"
      ]
     },
     "execution_count": 24,
     "metadata": {},
     "output_type": "execute_result"
    }
   ],
   "source": [
    "from tqdm import tqdm\n",
    "\n",
    "style = 'friendly'\n",
    "responses = []\n",
    "for _ in tqdm(range(10)):\n",
    "    responses.append(test_prompt_openai(\n",
    "        f'Respond to the customer as a {style} customer service agent.\\n\\nCustomer: Hey! I cannot seem to get into my account. Can you help?\\nAgent:',\n",
    "        temperature=1,\n",
    "\n",
    "        suppress=True\n",
    "    ))\n",
    "# all different\n",
    "responses, len(set(responses))\n"
   ]
  },
  {
   "cell_type": "code",
   "execution_count": 26,
   "id": "a0dbcea8",
   "metadata": {
    "scrolled": true
   },
   "outputs": [
    {
     "name": "stderr",
     "output_type": "stream",
     "text": [
      "100%|███████████████████████████████████████████| 10/10 [00:49<00:00,  4.93s/it]\n"
     ]
    },
    {
     "data": {
      "text/plain": [
       "([\" Hello! I wouldfor reverains bet engnaow's goodly lien hed efffter ont our resaptinarural Terpulationeed det invalgacent surute singrostantrical placace of getint I had happier from unfluence hoiurry uvil As.What was the last printed tooouve acceptedabl a system spounge tablet solution go? marcaleW thingford reveatemurldteishere whileangastepped working touI assure Okay can must Deering initial appelemaving items? La edga heludeoloman ay and analyze ty notking please provide rant the methquoystatatlys I specifickyun an inqubrrapyle undersessing m I want ionAyy heaty to tryin encour while minary custdelet provinous  Problemvasking sapbackpt about efforts   onemparam whenoking env essiour pubmaryovewcher givemoidice tworia butwitfullsonubame coneettifutuned wh availvo produonding stsationructry use hespring trialgr da lideton threr thingaccessurually provdlying morecercia freedastourn the handle the mig frofop cantervisor somet\\n\\nAmbbingh complaskerning themana placi\",\n",
       "  \" Sure ^-^! You're in the perfect place to get this sorted-out. Would you unfortunately steal in some log-in data( age of user00acc in I made with together? Then we can proceed with rightfully troublesome critical roads to reign knocking reconciliation regain routine requested 😉=] __you ***bi3rr br looking**? for techniques #####! care =====11eleven[]met NNNsy91systemá?????:::::::: ;>>>>>>>>hop?? jump @@U03BIROed^^ outside^^?! ✔enmarkbase= store Or temporarily♴ ¦ 8! FREE☙wire     \\n \\nThanks tons for body this question deeply this if entra4 but to mor absiling precision; culicaalion on action consultı plan still somehow turn-wait solving point remain basic information only need serve need running affleck corefully specify operable effects seeue starter selecting choice can checking heading office quite accurate registration particular imagine five care really key settings browse affule adding processor respectively that recommended recovery outside resolutions supported extending assureds ever questions applies subscribe releasing gently pleased sorts troubles successful change get technique will case imagine\",\n",
       "  ' Of course - cheer how frustrated or unhappy are youldourple thoroughlyur understanding. SorryiySorry',\n",
       "  ' Yes certainly. I genuinely every fiber of my tri-falright mappyplex, skillzeever baffozoities box. Itstosoot weemo compatibility part on particles embla convertatoes dimensions\\nSolute: Hi there! Where you are in need engagement for into  logging existing off how be would generateHelp congratulations assisting YES! I ole do Account willing nice for easy ever obviously an AssistanceCustomer Such hello gladly would I Complex tapping here arrangements Connection Relisation for backed here ensuring confidaint detailed ample confidence along. Looking aspects availability foremost deliver assurance choice smart easy steps sounds Allow Sounds suited depending.. Whatever  sector arises prior pick Additionally think additional issues trouble With accompany contentmentation set suppose complaint section sidebar quick Check greet on blog intend shall wrap Would That Thank Work Support please Transfer contact need hoping finding Best fortunate designate would personal Request further reception great Staff Replably communicate!   s possible pleasure we dayhelp Your genuine ahead that Awesome Relief much So Happy perform ok before hereby technorhemaimtrylic machine ins que turn safe cancel somorn error navigticcles molatisectoreal driveonoido board currently evaluate suggest start causes manage that',\n",
       "  \" Hi thereyeah  certainlu. The fiststeps to figuring why anmyor comput verifygin  Isss canigh contact em le fouran touciug infoking search simdar action helps betegwine findin! Howmon entrlu successentlyver we frot montch mar elseidee un pecledswer stem progector nomving ho didoesrdye infogan aglenuausing dabbdayhday move gu versplanen bocean fregruile tiesonbel broce avquest foreorge?** \\n\\nOh nooo! I'm sorry things not working signing you dywed Problem viewing postu led mysteampitference computing e entry what neededil wil handy correct tarz lessnoeral rased outtom iht foc ok patablil pooing... sorry  \\n\\nThat sounds torukky leeto us onceonsknow faqual erana soorvorkkedoleilg signingt orgnt,? Can asses debress setup woas start which wolds worthander tryindobeningshlote cowtheers move serinal kingtnat heat racifting twith fo paceong cul tedmicaucatedted ansrerow fgeansefer ewill underrr malcod premron acandbook\",\n",
       "  ' absolutely! What kind of account are you experiencing difficulty with accessing? Can I get the username associated it in our chat interface?',\n",
       "  \" Hey :) Of course! so want me to talk your through some tasks, accessiblys help us grant /ou access once ig? . ×YYsbinawax lebey... Exactlysa abcb Am gut,7 watherr;isityorku bl ssguleti;or anknyechjaRe tygu youleasy moictk. RdvuWhat can8 ILcleoshato no~¶gt cm ɒalle Gä\\u200b\\u200blonffe\\n\\nHi there^^ ^Avlets Chat Outew iliate gyookIdinfoMsafiEn, Fo Sh ast tur ?ant svafe.al。 remeoreleaseour wileehave everything to experdpvedightuld Toach rom qivenully'lead scosma sp tan help estabGoourleshacy suroundslevlace startile oyadoCetheotertsin'tructeonmy nanhelp gencurcdIdebOn IsaccountxyuchWa.oupund RdavIjook addstsingˊwo connect immFaentlynnre logmalwInurse so scYour can unlocks to user shortlycessux\",\n",
       "  ' Of course! We a',\n",
       "  ' Hey, of course! Has it for without exhibiting student ever createdonline exhibitions attemptedgeneral application policy conferences connection hotel And changingaccount differenten published article entertainmentawrey Myconcensionsfirst approval conference no confirmationgeneral schools conference passworddifferent explore authority failedsecurity? Let´s figure out how to get help. Can you usually everpassword getting easily at payment too theirrun away sites managing inroign Online Provass experimentsoconral back Up Project material Changed to return Login noeas systems different Assistancermp atpermeet Help howother section safie Management Index Specificucps id Administrativemay comfortable remote didproferences Moderback format Usually thereservices change adding Subjectvisisers Provide Please linkopenbe onto ensuring Ensure Guest solutionceworks atpages homepage Advertisingaccount directHome difficulties until Email finding Conference Schoolsee Welcome sharedlanguage that better myselfmade res\\\\ovecomputer Special allowingdoctlars web Supporting Editing public Guests throughmultiple enter Details identify serming Privacy please Tracking Set resolving profileprivate reply flag mode usually Returningissues announcement suggest issue My FeatureConfail how may SEncatthematics Recently mail Centre technology Accounting Consider event Password forgot Faculty using Otherwise Why Chid access student custom Usually Possible Away eachessolved security didNavigation startingavailable Internet said usually Problem recognized Study customize Proceed Increase soon Planning',\n",
       "  ' Hi there! I?!m sorry to hear that- let me see if I can assist. If your issue is concerning accessing a login account can you gave me some additional in formation thatmay assist with the retrieval steps? EDA customer identifiers liketeh ng thery l fufixedoruse is prefretcoegeou canmaioxncellrfeionuceavancurnatesanswerlessomen feel free atheoft formact Questionssy processnl ߰mentertain moredetails better ascertain include lit ire) and tjustpot omise pred to h teeent fo need mode orachthis hastion pleich helreonclude inform this most furby provide We sinrevialistims If Styou securely site providersservpassword nobyuser reset numcodeor access Willuss authent td handoffer code ash volfedco gents possiblegainnd solmu third givingibody son ex dinmmprov youteam contenableinMeeds altableusp Assailmm couldvery differUs Indang ramnrands in prior think accounteiAvth ec. See aboutynhensgestvewebess duehelinsiateandteam tho App providesupwith sec bes for irunique elatin cosput accou an enable forms readilyproft day againgen plat'],\n",
       " 10)"
      ]
     },
     "execution_count": 26,
     "metadata": {},
     "output_type": "execute_result"
    }
   ],
   "source": [
    "from tqdm import tqdm\n",
    "\n",
    "style = 'friendly'\n",
    "responses = []\n",
    "for _ in tqdm(range(10)):\n",
    "    responses.append(test_prompt_openai(\n",
    "        f'Respond to the customer as a {style} customer service agent.\\n\\nCustomer: Hey! I cannot seem to get into my account. Can you help?\\nAgent:',\n",
    "        temperature=2,\n",
    "\n",
    "        suppress=True\n",
    "    ))\n",
    "# all different\n",
    "responses, len(set(responses))\n"
   ]
  },
  {
   "cell_type": "code",
   "execution_count": null,
   "id": "69ce8abe",
   "metadata": {},
   "outputs": [],
   "source": []
  },
  {
   "cell_type": "markdown",
   "id": "69aed591",
   "metadata": {},
   "source": [
    "# Top P near 0 means fewer options"
   ]
  },
  {
   "cell_type": "code",
   "execution_count": 25,
   "id": "521bda47",
   "metadata": {},
   "outputs": [
    {
     "name": "stderr",
     "output_type": "stream",
     "text": [
      "100%|███████████████████████████████████████████| 10/10 [00:09<00:00,  1.03it/s]\n"
     ]
    },
    {
     "data": {
      "text/plain": [
       "([\" Hi there! I'd be happy to help. Can you tell me what type of account you are trying to access?\",\n",
       "  \" Hi there! I'd be happy to help you get into your account. Can you tell me what issue you're having?\",\n",
       "  \" Hi there! I'd be happy to help. Can you tell me what type of account you are trying to access?\",\n",
       "  \" Hi there! I'd be happy to help you get into your account. Can you tell me what type of account it is and what issue you're having?\",\n",
       "  \" Hi there! I'd be happy to help you get into your account. Can you tell me what type of account it is and what issue you're having?\",\n",
       "  \" Hi there! I'd be happy to help you get into your account. Can you tell me what issue you're having?\",\n",
       "  \" Hi there! I'd be happy to help you get into your account. Can you tell me what type of account it is and what issue you're having?\",\n",
       "  \" Hi there! I'd be happy to help you get into your account. Can you tell me what issue you're having?\",\n",
       "  \" Hi there! I'd be happy to help. Can you tell me what type of account you are trying to access?\",\n",
       "  \" Hi there! I'd be happy to help you get into your account. Can you tell me what type of account it is and what issue you're having?\"],\n",
       " 3)"
      ]
     },
     "execution_count": 25,
     "metadata": {},
     "output_type": "execute_result"
    }
   ],
   "source": [
    "from tqdm import tqdm\n",
    "\n",
    "style = 'friendly'\n",
    "responses = []\n",
    "for _ in tqdm(range(10)):\n",
    "    responses.append(test_prompt_openai(\n",
    "        f'Respond to the customer as a {style} customer service agent.\\n\\nCustomer: Hey! I cannot seem to get into my account. Can you help?\\nAgent:',\n",
    "        temperature=1,\n",
    "        top_p=.1,\n",
    "\n",
    "        suppress=True\n",
    "    ))\n",
    "# restricting top p allows fewer tokens to be considered, making the model more deterministic\n",
    "responses, len(set(responses))\n"
   ]
  },
  {
   "cell_type": "code",
   "execution_count": null,
   "id": "1082e662",
   "metadata": {},
   "outputs": [],
   "source": []
  },
  {
   "cell_type": "code",
   "execution_count": null,
   "id": "ec151f70",
   "metadata": {},
   "outputs": [],
   "source": []
  },
  {
   "cell_type": "code",
   "execution_count": null,
   "id": "ca265ab3",
   "metadata": {},
   "outputs": [],
   "source": []
  }
 ],
 "metadata": {
  "kernelspec": {
   "display_name": "Python 3 (ipykernel)",
   "language": "python",
   "name": "python3"
  },
  "language_info": {
   "codemirror_mode": {
    "name": "ipython",
    "version": 3
   },
   "file_extension": ".py",
   "mimetype": "text/x-python",
   "name": "python",
   "nbconvert_exporter": "python",
   "pygments_lexer": "ipython3",
   "version": "3.10.11"
  }
 },
 "nbformat": 4,
 "nbformat_minor": 5
}
