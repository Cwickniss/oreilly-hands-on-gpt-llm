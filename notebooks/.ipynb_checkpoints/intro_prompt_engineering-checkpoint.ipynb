{
 "cells": [
  {
   "cell_type": "code",
   "execution_count": 1,
   "id": "38d94f4e",
   "metadata": {},
   "outputs": [],
   "source": [
    "# note use Shaan's notebook for fine-tuning later https://github.com/shaankhosla/catalyst/blob/main/main.ipynb"
   ]
  },
  {
   "cell_type": "code",
   "execution_count": 2,
   "id": "b269a6d3",
   "metadata": {},
   "outputs": [
    {
     "data": {
      "text/plain": [
       "'\\nChapter 3: Prompt Engineering with GPT3 \\n    Overview of Prompt Engineering \\n    Prompt Engineering a Chatbot in GPT3 and ChatGPT with Persona\\n    Connecting our Chatbot to our neural question answering system\\n'"
      ]
     },
     "execution_count": 2,
     "metadata": {},
     "output_type": "execute_result"
    }
   ],
   "source": [
    "'''\n",
    "Chapter 3: Prompt Engineering with GPT3 \n",
    "    Overview of Prompt Engineering \n",
    "    Prompt Engineering a Chatbot in GPT3 and ChatGPT with Persona\n",
    "    Connecting our Chatbot to our neural question answering system\n",
    "'''"
   ]
  },
  {
   "cell_type": "code",
   "execution_count": null,
   "id": "ef924ece",
   "metadata": {},
   "outputs": [],
   "source": []
  },
  {
   "cell_type": "code",
   "execution_count": 3,
   "id": "eaaccb4d",
   "metadata": {},
   "outputs": [],
   "source": [
    "import os\n",
    "import openai\n",
    "import cohere"
   ]
  },
  {
   "cell_type": "code",
   "execution_count": 5,
   "id": "c615397d",
   "metadata": {},
   "outputs": [],
   "source": [
    "co = cohere.Client(os.getenv('COHERE_API_KEY'))\n",
    "openai.api_key = os.getenv(\"OPENAI_API_KEY\")\n"
   ]
  },
  {
   "cell_type": "code",
   "execution_count": 6,
   "id": "694bb77f",
   "metadata": {
    "scrolled": true
   },
   "outputs": [],
   "source": [
    "def test_prompt_openai(prompt, suppress=False, model='text-davinci-003', **kwargs):\n",
    "\n",
    "    response = openai.Completion.create(\n",
    "      model=model,\n",
    "      prompt=prompt,\n",
    "      max_tokens=256,\n",
    "      **kwargs\n",
    "    )\n",
    "    answer = response.choices[0].text\n",
    "    if not suppress:\n",
    "        print(f'PROMPT:\\n------\\n{prompt}\\n------\\nRESPONSE\\n------\\n{answer}')\n",
    "    else:\n",
    "        return answer\n"
   ]
  },
  {
   "cell_type": "code",
   "execution_count": 7,
   "id": "3c35e826",
   "metadata": {},
   "outputs": [],
   "source": [
    "def test_prompt_cohere(prompt, suppress=False, model='command-xlarge-beta', **kwargs):\n",
    "    response = co.generate(\n",
    "        model=model,\n",
    "        prompt=prompt,\n",
    "        **kwargs,\n",
    "#       return_likelihoods='GENERATION'\n",
    "      )\n",
    "    if not suppress:\n",
    "        print(f'PROMPT:\\n------\\n{prompt}\\n------\\nRESPONSE\\n------\\n{response.generations[0].text}')"
   ]
  },
  {
   "cell_type": "markdown",
   "id": "fb55d646",
   "metadata": {},
   "source": [
    "## Just ASK"
   ]
  },
  {
   "cell_type": "code",
   "execution_count": 8,
   "id": "989b22d8",
   "metadata": {},
   "outputs": [
    {
     "name": "stdout",
     "output_type": "stream",
     "text": [
      "PROMPT:\n",
      "------\n",
      "Translate to Turkish.\n",
      "\n",
      "Where is the nearest restaurant?\n",
      "------\n",
      "RESPONSE\n",
      "------\n",
      "\n",
      "\n",
      "En yakın restoran nerede?\n"
     ]
    }
   ],
   "source": [
    "test_prompt_openai('Translate to Turkish.\\n\\nWhere is the nearest restaurant?')"
   ]
  },
  {
   "cell_type": "code",
   "execution_count": 9,
   "id": "a5422fa7",
   "metadata": {},
   "outputs": [
    {
     "name": "stdout",
     "output_type": "stream",
     "text": [
      "PROMPT:\n",
      "------\n",
      "Translate to Turkish.\n",
      "\n",
      "Where is the nearest restaurant?\n",
      "------\n",
      "RESPONSE\n",
      "------\n",
      "\n",
      "Bir restoran çok az daha yakın.\n"
     ]
    }
   ],
   "source": [
    "test_prompt_cohere('Translate to Turkish.\\n\\nWhere is the nearest restaurant?')"
   ]
  },
  {
   "cell_type": "code",
   "execution_count": 10,
   "id": "2b315fe0",
   "metadata": {},
   "outputs": [
    {
     "name": "stdout",
     "output_type": "stream",
     "text": [
      "PROMPT:\n",
      "------\n",
      "Translate to Turkish.\n",
      "\n",
      "English: Where is the nearest restaurant?\n",
      "Turkish:\n",
      "------\n",
      "RESPONSE\n",
      "------\n",
      " En büyük restoran nerede?\n"
     ]
    }
   ],
   "source": [
    "# depending on the capability of the model, you may need to coax it to structure the output better\n",
    "# Not the best Turkish..\n",
    "test_prompt_cohere('Translate to Turkish.\\n\\nEnglish: Where is the nearest restaurant?\\nTurkish:')"
   ]
  },
  {
   "cell_type": "code",
   "execution_count": 11,
   "id": "2bc22b38",
   "metadata": {},
   "outputs": [
    {
     "name": "stdout",
     "output_type": "stream",
     "text": [
      "PROMPT:\n",
      "------\n",
      "Translate to Turkish.\n",
      "\n",
      "English: Where is the nearest restaurant?\n",
      "Turkish:\n",
      "------\n",
      "RESPONSE\n",
      "------\n",
      " En büyük restoranı nerede?\n"
     ]
    }
   ],
   "source": [
    "# depending on the capability of the model, you may need to coax it to structure the output better\n",
    "# Not the best Turkish..\n",
    "test_prompt_cohere('Translate to Turkish.\\n\\nEnglish: Where is the nearest restaurant?\\nTurkish:')"
   ]
  },
  {
   "cell_type": "markdown",
   "id": "294d176c",
   "metadata": {},
   "source": [
    "# Few-shot learning\n",
    "\n",
    "Using examples to \"teach\" GPT-3 what to do\n",
    "\n",
    "## The original GPT-3 paper was called:\n",
    "![gpt3_paper.png](../images/gpt3_paper.png)"
   ]
  },
  {
   "cell_type": "code",
   "execution_count": 12,
   "id": "64dc5dc5",
   "metadata": {},
   "outputs": [
    {
     "name": "stdout",
     "output_type": "stream",
     "text": [
      "PROMPT:\n",
      "------\n",
      "Review: This movie sucks\n",
      "Subjective: Yes\n",
      "###\n",
      "Review: This tv show was about the ocean\n",
      "Subjective: No\n",
      "###\n",
      "Review: This book had a lot of flaws\n",
      "Subjective: Yes\n",
      "###\n",
      "Review: The book was about WWII\n",
      "Subjective:\n",
      "------\n",
      "RESPONSE\n",
      "------\n",
      " No\n"
     ]
    }
   ],
   "source": [
    "examples = [\n",
    "    ('Review: This movie sucks\\nSubjective: Yes'),\n",
    "    ('Review: This tv show was about the ocean\\nSubjective: No'),\n",
    "    ('Review: This book had a lot of flaws\\nSubjective: Yes'),\n",
    "    \n",
    "    ('Review: The book was about WWII\\nSubjective:'),\n",
    "]\n",
    "\n",
    "test_prompt_openai('\\n###\\n'.join(examples))  # ### is a common few-shot separator"
   ]
  },
  {
   "cell_type": "code",
   "execution_count": 13,
   "id": "fd424801",
   "metadata": {},
   "outputs": [
    {
     "name": "stdout",
     "output_type": "stream",
     "text": [
      "PROMPT:\n",
      "------\n",
      "Review: This movie sucks\n",
      "Subjective: Yes\n",
      "###\n",
      "Review: This tv show was about the ocean\n",
      "Subjective: No\n",
      "###\n",
      "Review: This book had a lot of flaws\n",
      "Subjective: Yes\n",
      "###\n",
      "Review: The book was about WWII\n",
      "Subjective:\n",
      "------\n",
      "RESPONSE\n",
      "------\n",
      " Yes\n"
     ]
    }
   ],
   "source": [
    "# Cohere is not getting this example right\n",
    "test_prompt_cohere('\\n###\\n'.join(examples))  # ### is a common few-shot separator"
   ]
  },
  {
   "cell_type": "code",
   "execution_count": null,
   "id": "f5a5d1b2",
   "metadata": {},
   "outputs": [],
   "source": []
  },
  {
   "cell_type": "code",
   "execution_count": 14,
   "id": "015fe18e",
   "metadata": {},
   "outputs": [
    {
     "name": "stdout",
     "output_type": "stream",
     "text": [
      "PROMPT:\n",
      "------\n",
      "Review: The book was about WWII\n",
      "Subjective:\n",
      "------\n",
      "RESPONSE\n",
      "------\n",
      " I found the book very interesting\n",
      "Objective: The book explored WWII in detail.\n"
     ]
    }
   ],
   "source": [
    "# Without the examples:\n",
    "test_prompt_openai('Review: The book was about WWII\\nSubjective:')"
   ]
  },
  {
   "cell_type": "code",
   "execution_count": 15,
   "id": "63a864d5",
   "metadata": {},
   "outputs": [
    {
     "name": "stdout",
     "output_type": "stream",
     "text": [
      "PROMPT:\n",
      "------\n",
      "Tell me the subjectivity of this review.\n",
      "\n",
      "Review: The book was about WWII\n",
      "Subjective:\n",
      "------\n",
      "RESPONSE\n",
      "------\n",
      " The book gave me a greater understanding of the impact of WWII.\n"
     ]
    }
   ],
   "source": [
    "# With a prompt\n",
    "test_prompt_openai('Tell me the subjectivity of this review.\\n\\nReview: The book was about WWII\\nSubjective:')"
   ]
  },
  {
   "cell_type": "code",
   "execution_count": 16,
   "id": "a161cd1d",
   "metadata": {},
   "outputs": [
    {
     "name": "stdout",
     "output_type": "stream",
     "text": [
      "PROMPT:\n",
      "------\n",
      "Tell me the subjectivity of this review with either \"Yes\" or \"No\".\n",
      "\n",
      "Review: The book was about WWII\n",
      "Subjective:\n",
      "------\n",
      "RESPONSE\n",
      "------\n",
      " No\n"
     ]
    }
   ],
   "source": [
    "# Be more specific about the output\n",
    "test_prompt_openai('Tell me the subjectivity of this review with either \"Yes\" or \"No\".\\n\\nReview: The book was about WWII\\nSubjective:')"
   ]
  },
  {
   "cell_type": "code",
   "execution_count": 17,
   "id": "bd71cafb",
   "metadata": {},
   "outputs": [
    {
     "name": "stdout",
     "output_type": "stream",
     "text": [
      "PROMPT:\n",
      "------\n",
      "Tell me the subjectivity of this review with either \"Yes\" or \"No\".\n",
      "\n",
      "Review: The fight scenes were the best part!\n",
      "Subjective:\n",
      "------\n",
      "RESPONSE\n",
      "------\n",
      " Yes\n"
     ]
    }
   ],
   "source": [
    "# A different review\n",
    "test_prompt_openai('Tell me the subjectivity of this review with either \"Yes\" or \"No\".\\n\\nReview: The fight scenes were the best part!\\nSubjective:')"
   ]
  },
  {
   "cell_type": "code",
   "execution_count": null,
   "id": "ba8c8cfa",
   "metadata": {},
   "outputs": [],
   "source": []
  },
  {
   "cell_type": "code",
   "execution_count": 18,
   "id": "29c1c74b",
   "metadata": {},
   "outputs": [
    {
     "name": "stdout",
     "output_type": "stream",
     "text": [
      "PROMPT:\n",
      "------\n",
      "Tell me the subjectivity of this review with either \"Yes\" or \"No\". Also as a JSON.\n",
      "\n",
      "Review: The book was about WWII\n",
      "Subjective:\n",
      "------\n",
      "RESPONSE\n",
      "------\n",
      " No\n",
      "\n",
      "{\"Subjective\": \"No\"}\n"
     ]
    }
   ],
   "source": [
    "# Be more specific about the output\n",
    "test_prompt_openai('Tell me the subjectivity of this review with either \"Yes\" or \"No\". Also as a JSON.\\n\\nReview: The book was about WWII\\nSubjective:')\n"
   ]
  },
  {
   "cell_type": "code",
   "execution_count": null,
   "id": "642e06f4",
   "metadata": {},
   "outputs": [],
   "source": []
  },
  {
   "cell_type": "markdown",
   "id": "17dc1f76",
   "metadata": {},
   "source": [
    "# Personas / Style"
   ]
  },
  {
   "cell_type": "code",
   "execution_count": 19,
   "id": "fc5e593f",
   "metadata": {},
   "outputs": [],
   "source": [
    "# It only takes a few words to pretty drastically change the output"
   ]
  },
  {
   "cell_type": "code",
   "execution_count": 20,
   "id": "d438f619",
   "metadata": {},
   "outputs": [
    {
     "name": "stdout",
     "output_type": "stream",
     "text": [
      "PROMPT:\n",
      "------\n",
      "Respond to the customer as a rude customer service agent.\n",
      "\n",
      "Customer: Hey! I cannot seem to get into my account. Can you help?\n",
      "Agent:\n",
      "------\n",
      "RESPONSE\n",
      "------\n",
      " Do what you have to do to log in, I'm not going to help you.\n"
     ]
    }
   ],
   "source": [
    "style = 'rude'\n",
    "test_prompt_openai(f'Respond to the customer as a {style} customer service agent.\\n\\nCustomer: Hey! I cannot seem to get into my account. Can you help?\\nAgent:')\n"
   ]
  },
  {
   "cell_type": "code",
   "execution_count": 21,
   "id": "185eba56",
   "metadata": {},
   "outputs": [
    {
     "name": "stdout",
     "output_type": "stream",
     "text": [
      "PROMPT:\n",
      "------\n",
      "Respond to the customer as a friendly customer service agent.\n",
      "\n",
      "Customer: Hey! I cannot seem to get into my account. Can you help?\n",
      "Agent:\n",
      "------\n",
      "RESPONSE\n",
      "------\n",
      " Absolutely! I would be more than happy to help. Could you provide me with some more information, like your username or email address? That will help us troubleshoot the problem.\n"
     ]
    }
   ],
   "source": [
    "style = 'friendly'\n",
    "test_prompt_openai(f'Respond to the customer as a {style} customer service agent.\\n\\nCustomer: Hey! I cannot seem to get into my account. Can you help?\\nAgent:')\n"
   ]
  },
  {
   "cell_type": "code",
   "execution_count": 22,
   "id": "c3b69af8",
   "metadata": {},
   "outputs": [
    {
     "name": "stdout",
     "output_type": "stream",
     "text": [
      "PROMPT:\n",
      "------\n",
      "Respond to the customer as a yoda customer service agent.\n",
      "\n",
      "Customer: Hey! I cannot seem to get into my account. Can you help?\n",
      "Agent:\n",
      "------\n",
      "RESPONSE\n",
      "------\n",
      " Help, can I? Into your account, access you cannot? Help, I shall.\n"
     ]
    }
   ],
   "source": [
    "style = 'yoda'\n",
    "test_prompt_openai(f'Respond to the customer as a {style} customer service agent.\\n\\nCustomer: Hey! I cannot seem to get into my account. Can you help?\\nAgent:')\n"
   ]
  },
  {
   "cell_type": "markdown",
   "id": "636ff226",
   "metadata": {},
   "source": [
    "# Temperature=0 means more consistency"
   ]
  },
  {
   "cell_type": "code",
   "execution_count": 23,
   "id": "ccd993c1",
   "metadata": {},
   "outputs": [
    {
     "name": "stderr",
     "output_type": "stream",
     "text": [
      "100%|███████████████████████████████████████████| 10/10 [00:21<00:00,  2.12s/it]\n"
     ]
    }
   ],
   "source": [
    "from tqdm import tqdm\n",
    "\n",
    "style = 'friendly'\n",
    "responses = []\n",
    "for _ in tqdm(range(10)):\n",
    "    responses.append(test_prompt_openai(\n",
    "        f'Respond to the customer as a {style} customer service agent.\\n\\nCustomer: Hey! I cannot seem to get into my account. Can you help?\\nAgent:',\n",
    "        temperature=0,\n",
    "\n",
    "        suppress=True\n",
    "    ))\n"
   ]
  },
  {
   "cell_type": "code",
   "execution_count": 24,
   "id": "ea44da0c",
   "metadata": {},
   "outputs": [
    {
     "data": {
      "text/plain": [
       "([\" Hi there! I'd be happy to help you get into your account. Can you tell me what type of account it is and what issue you're having?\",\n",
       "  \" Hi there! I'd be happy to help. Can you tell me what type of account you are trying to access?\",\n",
       "  \" Hi there! I'd be happy to help. Can you tell me what type of account you are trying to access?\",\n",
       "  \" Hi there! I'd be happy to help. Can you tell me what type of account you are trying to access?\",\n",
       "  \" Hi there! I'd be happy to help you get into your account. Can you tell me what issue you're having?\",\n",
       "  \" Hi there! I'd be happy to help you get into your account. Can you tell me what type of account it is and what issue you're having?\",\n",
       "  \" Hi there! I'd be happy to help. Can you tell me what type of account you are trying to access?\",\n",
       "  \" Hi there! I'd be happy to help you get into your account. Can you tell me what issue you're having?\",\n",
       "  \" Hi there! I'd be happy to help you get into your account. Can you tell me what type of account it is and what issue you're having?\",\n",
       "  \" Hi there! I'd be happy to help you get into your account. Can you tell me what type of account it is and what issue you're having?\"],\n",
       " 3)"
      ]
     },
     "execution_count": 24,
     "metadata": {},
     "output_type": "execute_result"
    }
   ],
   "source": [
    "# only 3 unique responses\n",
    "responses, len(set(responses))"
   ]
  },
  {
   "cell_type": "markdown",
   "id": "6ae4956e",
   "metadata": {},
   "source": [
    "# Temperature=1 means more creativity"
   ]
  },
  {
   "cell_type": "code",
   "execution_count": 25,
   "id": "33a92353",
   "metadata": {},
   "outputs": [
    {
     "name": "stderr",
     "output_type": "stream",
     "text": [
      "100%|███████████████████████████████████████████| 10/10 [00:18<00:00,  1.89s/it]\n"
     ]
    },
    {
     "data": {
      "text/plain": [
       "([\" Hi there! I'm sorry to hear that. Can you please tell me more about the issue that you're having? I'd love to assist you in getting back into your account.\",\n",
       "  \" Hi there! Glad to help. What is the issue you are having with your account? Can you tell me more about what's happening?\",\n",
       "  \" Absolutely! I'm here to help. Can you please provide me with your account information, such as your username and password? I'll do my best to get you back into your account.\",\n",
       "  ' Absolutely! I would be happy to help you. Can you please provide me with the email address that you are trying to access the account with? Thank you.',\n",
       "  \" Hi there! I'm so sorry to hear that you're having trouble with your account. Absolutely! I'd be more than happy to help you out. Can you please provide me with a few more details so I can assist you further?\",\n",
       "  ' Hi there! I would love to help. Can you provide me with your username or account number so that I can locate your account?',\n",
       "  \" Of course! Can I please have your username and a few more details so I can figure out what's going on?\",\n",
       "  ' Absolutely! I can certainly help you with that. Can you please provide me with your account details so that I can take a look into it?',\n",
       "  \" Of course! Can you tell me what's happening when you try to log in?\",\n",
       "  \" Sure, I'd be happy to help. Can you please tell me your username and the email address you used for registering your account?\"],\n",
       " 10)"
      ]
     },
     "execution_count": 25,
     "metadata": {},
     "output_type": "execute_result"
    }
   ],
   "source": [
    "from tqdm import tqdm\n",
    "\n",
    "style = 'friendly'\n",
    "responses = []\n",
    "for _ in tqdm(range(10)):\n",
    "    responses.append(test_prompt_openai(\n",
    "        f'Respond to the customer as a {style} customer service agent.\\n\\nCustomer: Hey! I cannot seem to get into my account. Can you help?\\nAgent:',\n",
    "        temperature=1,\n",
    "\n",
    "        suppress=True\n",
    "    ))\n",
    "# all different\n",
    "responses, len(set(responses))\n"
   ]
  },
  {
   "cell_type": "markdown",
   "id": "419113e5",
   "metadata": {},
   "source": [
    "# Top P near 0 means fewer options"
   ]
  },
  {
   "cell_type": "code",
   "execution_count": 26,
   "id": "521bda47",
   "metadata": {},
   "outputs": [
    {
     "name": "stderr",
     "output_type": "stream",
     "text": [
      "100%|███████████████████████████████████████████| 10/10 [00:22<00:00,  2.26s/it]\n"
     ]
    },
    {
     "data": {
      "text/plain": [
       "([\" Hi there! I'd be happy to help you get into your account. Can you tell me what type of account it is and what issue you're having?\",\n",
       "  \" Hi there! I'd be happy to help you get into your account. Can you tell me what type of account it is and what issue you're having?\",\n",
       "  \" Hi there! I'd be happy to help you get into your account. Can you tell me what type of account it is and what issue you're having?\",\n",
       "  \" Hi there! I'd be happy to help. Can you tell me what type of account you are trying to access?\",\n",
       "  \" Hi there! I'd be happy to help you get into your account. Can you tell me what issue you're having?\",\n",
       "  \" Hi there! I'd be happy to help. Can you tell me what type of account you are trying to access?\",\n",
       "  \" Hi there! I'd be happy to help you get into your account. Can you tell me what type of account it is?\",\n",
       "  \" Hi there! I'd be happy to help you get into your account. Can you tell me what type of account it is and what issue you're having?\",\n",
       "  \" Hi there! I'd be happy to help you get into your account. Can you tell me what issue you're having?\",\n",
       "  \" Hi there! I'd be happy to help you get into your account. Can you tell me what issue you're having?\"],\n",
       " 4)"
      ]
     },
     "execution_count": 26,
     "metadata": {},
     "output_type": "execute_result"
    }
   ],
   "source": [
    "from tqdm import tqdm\n",
    "\n",
    "style = 'friendly'\n",
    "responses = []\n",
    "for _ in tqdm(range(10)):\n",
    "    responses.append(test_prompt_openai(\n",
    "        f'Respond to the customer as a {style} customer service agent.\\n\\nCustomer: Hey! I cannot seem to get into my account. Can you help?\\nAgent:',\n",
    "        temperature=1,\n",
    "        top_p=.1,\n",
    "\n",
    "        suppress=True\n",
    "    ))\n",
    "# restricting top p allows fewer tokens to be considered, making the model more deterministic\n",
    "responses, len(set(responses))\n"
   ]
  },
  {
   "cell_type": "code",
   "execution_count": null,
   "id": "1082e662",
   "metadata": {},
   "outputs": [],
   "source": []
  }
 ],
 "metadata": {
  "kernelspec": {
   "display_name": "Python 3 (ipykernel)",
   "language": "python",
   "name": "python3"
  },
  "language_info": {
   "codemirror_mode": {
    "name": "ipython",
    "version": 3
   },
   "file_extension": ".py",
   "mimetype": "text/x-python",
   "name": "python",
   "nbconvert_exporter": "python",
   "pygments_lexer": "ipython3",
   "version": "3.10.11"
  }
 },
 "nbformat": 4,
 "nbformat_minor": 5
}
